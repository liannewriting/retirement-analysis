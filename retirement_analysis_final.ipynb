{
 "cells": [
  {
   "cell_type": "code",
   "execution_count": 261,
   "metadata": {},
   "outputs": [
    {
     "data": {
      "text/html": [
       "<script type=\"text/javascript\">window.PlotlyConfig = {MathJaxConfig: 'local'};</script><script type=\"text/javascript\">if (window.MathJax) {MathJax.Hub.Config({SVG: {font: \"STIX-Web\"}});}</script><script>requirejs.config({paths: { 'plotly': ['https://cdn.plot.ly/plotly-latest.min']},});if(!window._Plotly) {require(['plotly'],function(plotly) {window._Plotly=plotly;});}</script>"
      ],
      "text/vnd.plotly.v1+html": [
       "<script type=\"text/javascript\">window.PlotlyConfig = {MathJaxConfig: 'local'};</script><script type=\"text/javascript\">if (window.MathJax) {MathJax.Hub.Config({SVG: {font: \"STIX-Web\"}});}</script><script>requirejs.config({paths: { 'plotly': ['https://cdn.plot.ly/plotly-latest.min']},});if(!window._Plotly) {require(['plotly'],function(plotly) {window._Plotly=plotly;});}</script>"
      ]
     },
     "metadata": {},
     "output_type": "display_data"
    }
   ],
   "source": [
    "import pandas as pd\n",
    "import numpy as np\n",
    "\n",
    "import json\n",
    "import datetime\n",
    "\n",
    "import datetime\n",
    "import requests\n",
    "\n",
    "import os\n",
    "\n",
    "from datetime import timedelta\n",
    "\n",
    "from plotly import __version__\n",
    "from plotly.offline import download_plotlyjs, init_notebook_mode, plot, iplot\n",
    "import plotly.graph_objs as go\n",
    "\n",
    "import matplotlib.pyplot as plt\n",
    "import matplotlib.mlab as mlab\n",
    "import matplotlib\n",
    "plt.style.use('ggplot')\n",
    "from matplotlib.pyplot import figure\n",
    "\n",
    "%matplotlib inline\n",
    "matplotlib.rcParams['figure.figsize'] = (12,8)\n",
    "\n",
    "from sklearn.tree import DecisionTreeRegressor\n",
    "from sklearn import tree\n",
    "from sklearn.ensemble import RandomForestRegressor, GradientBoostingRegressor, GradientBoostingClassifier\n",
    "import graphviz\n",
    "from sklearn.model_selection import cross_val_score\n",
    "from sklearn.ensemble.partial_dependence import plot_partial_dependence, partial_dependence\n",
    "from mpl_toolkits.mplot3d import Axes3D\n",
    "from sklearn.model_selection import KFold\n",
    "from sklearn.metrics import mean_squared_error\n",
    "\n",
    "init_notebook_mode(connected=True)\n",
    "pd.options.mode.chained_assignment = None\n",
    "\n",
    "import math"
   ]
  },
  {
   "cell_type": "code",
   "execution_count": 3,
   "metadata": {},
   "outputs": [],
   "source": [
    "df = pd.read_csv('~/Downloads/^GSPC.csv')\n",
    "df_bond = pd.read_csv('~/Downloads/VBMFX.csv')"
   ]
  },
  {
   "cell_type": "code",
   "execution_count": 4,
   "metadata": {},
   "outputs": [],
   "source": [
    "df['Date'] = pd.to_datetime(df['Date'])\n",
    "df['year'] = df['Date'].dt.year\n",
    "\n",
    "df_bond['Date'] = pd.to_datetime(df_bond['Date'])\n",
    "df_bond['year'] = df_bond['Date'].dt.year"
   ]
  },
  {
   "cell_type": "code",
   "execution_count": null,
   "metadata": {},
   "outputs": [],
   "source": [
    "trace = go.Scatter(\n",
    "    x = df['Date'],\n",
    "    y = df['Adj Close'],\n",
    "    mode = 'lines'\n",
    ")\n",
    "\n",
    "iplot([trace])"
   ]
  },
  {
   "cell_type": "code",
   "execution_count": 6,
   "metadata": {},
   "outputs": [],
   "source": [
    "df['last_day_return'] = df['Adj Close']/df['Adj Close'].shift(1) - 1\n",
    "df_bond['last_day_return'] = df_bond['Adj Close']/df_bond['Adj Close'].shift(1) - 1"
   ]
  },
  {
   "cell_type": "code",
   "execution_count": 7,
   "metadata": {},
   "outputs": [
    {
     "data": {
      "text/plain": [
       "count                   23084\n",
       "unique                  23084\n",
       "top       1967-09-20 00:00:00\n",
       "freq                        1\n",
       "first     1927-12-30 00:00:00\n",
       "last      2019-11-22 00:00:00\n",
       "Name: Date, dtype: object"
      ]
     },
     "execution_count": 7,
     "metadata": {},
     "output_type": "execute_result"
    }
   ],
   "source": [
    "df['Date'].describe()"
   ]
  },
  {
   "cell_type": "code",
   "execution_count": 8,
   "metadata": {},
   "outputs": [
    {
     "data": {
      "text/plain": [
       "count    8306.000000\n",
       "mean        0.000367\n",
       "std         0.011299\n",
       "min        -0.204669\n",
       "25%        -0.004328\n",
       "50%         0.000582\n",
       "75%         0.005596\n",
       "max         0.115800\n",
       "Name: last_day_return, dtype: float64"
      ]
     },
     "execution_count": 8,
     "metadata": {},
     "output_type": "execute_result"
    }
   ],
   "source": [
    "msk = (df['Date'] >= '1986-12-11') & (df['Date'] <= '2019-11-22')\n",
    "df.loc[msk, 'last_day_return'].describe()"
   ]
  },
  {
   "cell_type": "code",
   "execution_count": 9,
   "metadata": {},
   "outputs": [
    {
     "data": {
      "text/plain": [
       "count    8305.000000\n",
       "mean        0.000230\n",
       "std         0.002708\n",
       "min        -0.016598\n",
       "25%        -0.001052\n",
       "50%         0.000000\n",
       "75%         0.001861\n",
       "max         0.042238\n",
       "Name: last_day_return, dtype: float64"
      ]
     },
     "execution_count": 9,
     "metadata": {},
     "output_type": "execute_result"
    }
   ],
   "source": [
    "msk = (df_bond['Date'] >= '1986-12-11') & (df_bond['Date'] <= '2019-11-22')\n",
    "df_bond.loc[msk, 'last_day_return'].describe()"
   ]
  },
  {
   "cell_type": "code",
   "execution_count": null,
   "metadata": {},
   "outputs": [],
   "source": [
    "data = [go.Histogram(x=df['last_day_return'], nbinsx=1000), go.Histogram(x=df_bond['last_day_return'], nbinsx=1000)]\n",
    "iplot(data)"
   ]
  },
  {
   "cell_type": "code",
   "execution_count": 489,
   "metadata": {},
   "outputs": [
    {
     "name": "stdout",
     "output_type": "stream",
     "text": [
      "5, 0, monthly_withdrawal: 15250, withdrawal amt: 15250.0, portfolio_stocks: 459782.3780076583, portfolio_bonds: 497560.086058862, stock_return: 0.93381, bond_return: 1.01053\n",
      "5, 1, monthly_withdrawal: 15250, withdrawal amt: 15250.0, portfolio_stocks: 439282.71550191956, portfolio_bonds: 474896.11954976915, stock_return: 0.93257, bond_return: 1.00817\n",
      "5, 2, monthly_withdrawal: 15250, withdrawal amt: 15250.0, portfolio_stocks: 469368.02749274665, portfolio_bonds: 451029.7432589988, stock_return: 1.04428, bond_return: 1.00348\n",
      "5, 3, monthly_withdrawal: 15250, withdrawal amt: 15250.0, portfolio_stocks: 468473.2850031724, portfolio_bonds: 451365.5679493727, stock_return: 1.03513, bond_return: 0.99733\n",
      "5, 4, monthly_withdrawal: 15250, withdrawal amt: 15250.0, portfolio_stocks: 430658.16652633715, portfolio_bonds: 460670.5576903034, stock_return: 0.95216, bond_return: 1.01852\n",
      "5, 5, monthly_withdrawal: 15250, withdrawal amt: 15250.0, portfolio_stocks: 433060.512495876, portfolio_bonds: 441664.4400581293, stock_return: 0.98863, bond_return: 1.00828\n",
      "5, 6, monthly_withdrawal: 15250, withdrawal amt: 15250.0, portfolio_stocks: 423307.1152204604, portfolio_bonds: 435006.74230799585, stock_return: 0.98504, bond_return: 1.01226\n",
      "5, 7, monthly_withdrawal: 15250, withdrawal amt: 15250.0, portfolio_stocks: 369458.09906274336, portfolio_bonds: 430031.0341789768, stock_return: 0.87647, bond_return: 1.02016\n",
      "5, 8, monthly_withdrawal: 15250, withdrawal amt: 15250.0, portfolio_stocks: 400139.0315295094, portfolio_bonds: 394779.4162073124, stock_return: 1.02045, bond_return: 1.00678\n",
      "5, 9, monthly_withdrawal: 15250, withdrawal amt: 15250.0, portfolio_stocks: 419412.2860149707, portfolio_bonds: 386515.92484985816, stock_return: 1.07587, bond_return: 0.99149\n",
      "5, 10, monthly_withdrawal: 15250, withdrawal amt: 15250.0, portfolio_stocks: 398071.3228165413, portfolio_bonds: 395008.3014460034, stock_return: 1.00691, bond_return: 0.99916\n",
      "5, 11, monthly_withdrawal: 15250, withdrawal amt: 15250.0, portfolio_stocks: 382857.91796711605, portfolio_bonds: 391988.8425228465, stock_return: 0.98443, bond_return: 1.0079\n",
      "5, 12, monthly_withdrawal: 15707.5, withdrawal amt: 15707.5, portfolio_stocks: 387508.9614620782, portfolio_bonds: 380948.02994599356, stock_return: 1.02092, bond_return: 1.00363\n",
      "5, 13, monthly_withdrawal: 15707.5, withdrawal amt: 15707.5, portfolio_stocks: 367097.83014078386, portfolio_bonds: 374948.6809215651, stock_return: 0.97535, bond_return: 0.99621\n",
      "5, 14, monthly_withdrawal: 15707.5, withdrawal amt: 15707.5, portfolio_stocks: 349990.34294128616, portfolio_bonds: 366786.8432152471, stock_return: 0.96371, bond_return: 1.00996\n",
      "5, 15, monthly_withdrawal: 15707.5, withdrawal amt: 15707.5, portfolio_stocks: 336352.62187317194, portfolio_bonds: 353733.5809427636, stock_return: 0.95954, bond_return: 1.00913\n",
      "5, 16, monthly_withdrawal: 15707.5, withdrawal amt: 15707.5, portfolio_stocks: 307189.3806859612, portfolio_bonds: 338826.7027627559, stock_return: 0.91103, bond_return: 1.00486\n",
      "5, 17, monthly_withdrawal: 15707.5, withdrawal amt: 15707.5, portfolio_stocks: 294069.5284918393, portfolio_bonds: 316694.13354060124, stock_return: 0.9331, bond_return: 1.00489\n",
      "5, 18, monthly_withdrawal: 15707.5, withdrawal amt: 15707.5, portfolio_stocks: 308091.8766279768, portfolio_bonds: 301874.2943894989, stock_return: 1.03551, bond_return: 1.01461\n",
      "5, 19, monthly_withdrawal: 15707.5, withdrawal amt: 15707.5, portfolio_stocks: 275021.4775329084, portfolio_bonds: 300815.67901078676, stock_return: 0.9256, bond_return: 1.01241\n",
      "5, 20, monthly_withdrawal: 15707.5, withdrawal amt: 15707.5, portfolio_stocks: 294201.6927443825, portfolio_bonds: 277353.54212151107, stock_return: 1.05048, bond_return: 0.99032\n",
      "5, 21, monthly_withdrawal: 15707.5, withdrawal amt: 15707.5, portfolio_stocks: 292152.2036722907, portfolio_bonds: 279321.1349206924, stock_return: 1.0512, bond_return: 1.00503\n",
      "5, 22, monthly_withdrawal: 15707.5, withdrawal amt: 15707.5, portfolio_stocks: 261117.52787309192, portfolio_bonds: 284185.50958539115, stock_return: 0.93967, bond_return: 1.02268\n",
      "5, 23, monthly_withdrawal: 15707.5, withdrawal amt: 15707.5, portfolio_stocks: 257538.41930896795, portfolio_bonds: 264957.42503865605, stock_return: 0.97259, bond_return: 1.0006\n",
      "5, 24, monthly_withdrawal: 16178.725, withdrawal amt: 16178.725, portfolio_stocks: 243185.4610453028, portfolio_bonds: 257157.62953079573, stock_return: 0.96061, bond_return: 1.0158\n",
      "5, 25, monthly_withdrawal: 16178.725, withdrawal amt: 16178.725, portfolio_stocks: 259431.6271758554, portfolio_bonds: 240629.08182307842, stock_return: 1.07167, bond_return: 0.994\n",
      "5, 26, monthly_withdrawal: 16178.725, withdrawal amt: 16178.725, portfolio_stocks: 255448.3775923488, portfolio_bonds: 244517.89630709405, stock_return: 1.05583, bond_return: 1.01065\n",
      "5, 27, monthly_withdrawal: 16178.725, withdrawal amt: 16178.725, portfolio_stocks: 252681.82384847844, portfolio_bonds: 247005.3991314484, stock_return: 1.0446, bond_return: 1.02113\n",
      "5, 28, monthly_withdrawal: 16178.725, withdrawal amt: 16178.725, portfolio_stocks: 247275.809449059, portfolio_bonds: 240985.2433392068, stock_return: 1.02284, bond_return: 0.99682\n",
      "5, 29, monthly_withdrawal: 16178.725, withdrawal amt: 16178.725, portfolio_stocks: 232810.8200813306, portfolio_bonds: 227936.74263789016, stock_return: 0.98631, bond_return: 0.96567\n",
      "5, 30, monthly_withdrawal: 16178.725, withdrawal amt: 16178.725, portfolio_stocks: 231773.14231998543, portfolio_bonds: 222545.9040557779, stock_return: 1.04269, bond_return: 1.00118\n",
      "5, 31, monthly_withdrawal: 16178.725, withdrawal amt: 16178.725, portfolio_stocks: 218262.03274513496, portfolio_bonds: 226335.40938065673, stock_return: 0.99631, bond_return: 1.03316\n",
      "5, 32, monthly_withdrawal: 16178.725, withdrawal amt: 16178.725, portfolio_stocks: 220251.35982673234, portfolio_bonds: 210916.87990166576, stock_return: 1.02821, bond_return: 0.98463\n",
      "5, 33, monthly_withdrawal: 16178.725, withdrawal amt: 16178.725, portfolio_stocks: 212088.8505801145, portfolio_bonds: 208244.49990150507, stock_return: 1.02214, bond_return: 1.00361\n",
      "5, 34, monthly_withdrawal: 16178.725, withdrawal amt: 16178.725, portfolio_stocks: 209970.6720031551, portfolio_bonds: 204671.55933889688, stock_return: 1.03906, bond_return: 1.01284\n",
      "5, 35, monthly_withdrawal: 16178.725, withdrawal amt: 16178.725, portfolio_stocks: 203413.7646117085, portfolio_bonds: 200956.6509803805, stock_return: 1.02099, bond_return: 1.00866\n",
      "5, 36, monthly_withdrawal: 16664.086750000002, withdrawal amt: 16664.086750000002, portfolio_stocks: 196545.99959466254, portfolio_bonds: 195295.70970693263, stock_return: 1.01389, bond_return: 1.00744\n",
      "5, 37, monthly_withdrawal: 16664.086750000002, withdrawal amt: 16664.086750000002, portfolio_stocks: 184515.11026219054, portfolio_bonds: 189089.10644723274, stock_return: 0.98361, bond_return: 1.008\n",
      "5, 38, monthly_withdrawal: 16664.086750000002, withdrawal amt: 16664.086750000002, portfolio_stocks: 176155.96896103467, portfolio_bonds: 174143.8294412478, stock_return: 0.98703, bond_return: 0.97576\n",
      "5, 39, monthly_withdrawal: 16664.086750000002, withdrawal amt: 16664.086750000002, portfolio_stocks: 167937.44877989648, portfolio_bonds: 165614.70024471811, stock_return: 1.00671, bond_return: 0.99279\n",
      "5, 40, monthly_withdrawal: 16664.086750000002, withdrawal amt: 16664.086750000002, portfolio_stocks: 158498.96100277573, portfolio_bonds: 161075.274493367, stock_return: 1.00035, bond_return: 1.01661\n",
      "5, 41, monthly_withdrawal: 16664.086750000002, withdrawal amt: 16664.086750000002, portfolio_stocks: 147997.67284071617, portfolio_bonds: 152160.9963794735, stock_return: 0.97717, bond_return: 1.00466\n",
      "5, 42, monthly_withdrawal: 16664.086750000002, withdrawal amt: 16664.086750000002, portfolio_stocks: 142549.0457125238, portfolio_bonds: 144217.6620589713, stock_return: 1.00566, bond_return: 1.01743\n",
      "5, 43, monthly_withdrawal: 16664.086750000002, withdrawal amt: 16664.086750000002, portfolio_stocks: 138176.30109585464, portfolio_bonds: 135012.05207484387, stock_return: 1.02314, bond_return: 0.99971\n",
      "5, 44, monthly_withdrawal: 16664.086750000002, withdrawal amt: 16664.086750000002, portfolio_stocks: 128149.91206208865, portfolio_bonds: 129350.1748841084, stock_return: 0.99913, bond_return: 1.00848\n",
      "5, 45, monthly_withdrawal: 16664.086750000002, withdrawal amt: 16664.086750000002, portfolio_stocks: 126900.59433863983, portfolio_bonds: 119684.09388965281, stock_return: 1.05383, bond_return: 0.99391\n",
      "5, 46, monthly_withdrawal: 16664.086750000002, withdrawal amt: 16664.086750000002, portfolio_stocks: 116943.26138374791, portfolio_bonds: 116020.31793332538, stock_return: 1.01725, bond_return: 1.00922\n",
      "5, 47, monthly_withdrawal: 16664.086750000002, withdrawal amt: 16664.086750000002, portfolio_stocks: 106140.99010989929, portfolio_bonds: 108856.72778568036, stock_return: 0.98143, bond_return: 1.00654\n",
      "5, 48, monthly_withdrawal: 17164.0093525, withdrawal amt: 17164.0093525, portfolio_stocks: 100668.29629712207, portfolio_bonds: 98205.62269763173, stock_return: 1.01771, bond_return: 0.99281\n",
      "5, 49, monthly_withdrawal: 17164.0093525, withdrawal amt: 17164.0093525, portfolio_stocks: 88276.7285186532, portfolio_bonds: 90590.33788212272, stock_return: 0.97162, bond_return: 0.99709\n",
      "5, 50, monthly_withdrawal: 17164.0093525, withdrawal amt: 17164.0093525, portfolio_stocks: 79823.80482685404, portfolio_bonds: 81866.97455429795, stock_return: 0.98729, bond_return: 1.01256\n",
      "5, 51, monthly_withdrawal: 17164.0093525, withdrawal amt: 17164.0093525, portfolio_stocks: 74946.88241989704, portfolio_bonds: 73384.72969325367, stock_return: 1.03713, bond_return: 1.01552\n",
      "5, 52, monthly_withdrawal: 17164.0093525, withdrawal amt: 17164.0093525, portfolio_stocks: 65047.38004502549, portfolio_bonds: 65374.67610893619, stock_return: 0.99182, bond_return: 0.99681\n",
      "5, 53, monthly_withdrawal: 17164.0093525, withdrawal amt: 17164.0093525, portfolio_stocks: 58984.38078953367, portfolio_bonds: 56175.99728192756, stock_return: 1.04159, bond_return: 0.992\n",
      "5, 54, monthly_withdrawal: 17164.0093525, withdrawal amt: 17164.0093525, portfolio_stocks: 48061.24200542641, portfolio_bonds: 49762.92343412677, stock_return: 0.98088, bond_return: 1.01561\n",
      "5, 55, monthly_withdrawal: 17164.0093525, withdrawal amt: 17164.0093525, portfolio_stocks: 40610.33275179265, portfolio_bonds: 39886.11341204334, stock_return: 1.00695, bond_return: 0.98899\n",
      "5, 56, monthly_withdrawal: 17164.0093525, withdrawal amt: 17164.0093525, portfolio_stocks: 31104.434989401005, portfolio_bonds: 31409.831024784922, stock_return: 0.98226, bond_return: 0.9919\n",
      "5, 57, monthly_withdrawal: 17164.0093525, withdrawal amt: 17164.0093525, portfolio_stocks: 23472.97757151087, portfolio_bonds: 22784.330522869448, stock_return: 1.03519, bond_return: 1.00482\n",
      "5, 58, monthly_withdrawal: 17164.0093525, withdrawal amt: 17164.0093525, portfolio_stocks: 14532.79588406868, portfolio_bonds: 14690.87805709334, stock_return: 0.99905, bond_return: 1.00991\n",
      "5, 59, monthly_withdrawal: 17164.0093525, withdrawal amt: 17164.0093525, portfolio_stocks: 6194.889206373205, portfolio_bonds: 6017.314041970095, stock_return: 1.02737, bond_return: 0.99792\n",
      "CPU times: user 34.6 s, sys: 190 ms, total: 34.8 s\n",
      "Wall time: 34.8 s\n"
     ]
    }
   ],
   "source": [
    "%%time\n",
    "msk = (df['Date'] >= '1986-12-11') & (df['Date'] <= '2019-11-22')\n",
    "df_sim = df[msk]\n",
    "\n",
    "msk = (df_bond['Date'] >= '1986-12-11') & (df_bond['Date'] <= '2019-11-22')\n",
    "df_sim_bond = df_bond[msk]\n",
    "\n",
    "chunk_years = [15, 15, 15, 15, 5]\n",
    "\n",
    "percent_bond = 0.5\n",
    "\n",
    "num_trials = 2000\n",
    "start_p = 1000000\n",
    "\n",
    "inflation = 0.03\n",
    "initial_monthly_withdrawal = 15250\n",
    "\n",
    "p_list = []\n",
    "w_list = []\n",
    "\n",
    "for trial in range(num_trials):\n",
    "    portfolio_bonds = start_p*percent_bond\n",
    "    portfolio_stocks = start_p - portfolio_bonds\n",
    "    monthly_withdrawal = initial_monthly_withdrawal\n",
    "    total_withdrawals = 0\n",
    "    \n",
    "    for chunk in chunk_years:\n",
    "        # randomly choose a one-year stock market period.\n",
    "        start_ind = np.random.choice(range(len(df_sim.index) - 252*chunk))\n",
    "        end_ind = start_ind + 252*chunk\n",
    "        \n",
    "        # get the returns for the period.\n",
    "        ret_stocks = (df_sim.iloc[start_ind:end_ind]['last_day_return']) + 1\n",
    "        ret_bonds = (df_sim_bond.iloc[start_ind:end_ind]['last_day_return']) + 1\n",
    "        \n",
    "        for month in range(12*chunk):\n",
    "            \n",
    "            if (month % 12 == 0) and (month > 0):\n",
    "                # adjust monthly withdrawal by inflation for the next year.\n",
    "                monthly_withdrawal *= 1+inflation\n",
    "                \n",
    "            if (portfolio_stocks + portfolio_bonds) <= 0:\n",
    "                break\n",
    "            \n",
    "            # withdraw amount.\n",
    "            stock_withdrawal = monthly_withdrawal*(1-percent_bond)\n",
    "            bond_withdrawal = monthly_withdrawal - stock_withdrawal\n",
    "            withdraw_amt = 0\n",
    "            \n",
    "            if portfolio_stocks > stock_withdrawal:\n",
    "                # have enough money to withdraw from stocks.\n",
    "                portfolio_stocks -= stock_withdrawal\n",
    "                withdraw_amt += stock_withdrawal\n",
    "            else:\n",
    "                # not enough in the stock portfolio. But still can withdraw it all.\n",
    "                stock_withdrawal -= portfolio_stocks\n",
    "                withdraw_amt += portfolio_stocks\n",
    "                \n",
    "                # withdraw the remaining amount from the bond portfolio (if able to).\n",
    "                stock_withdraw_remaining = stock_withdrawal - portfolio_stocks\n",
    "                if portfolio_bonds > stock_withdraw_remaining:\n",
    "                    # enough money in bonds to make the withdrawal.\n",
    "                    portfolio_bonds -= stock_withdraw_remaining\n",
    "                    withdraw_amt += stock_withdraw_remaining\n",
    "                else:\n",
    "                    # not enough money in bonds to make the full withdrawal. Failure!\n",
    "                    withdraw_amt += portfolio_bonds\n",
    "                    portfolio_bonds = 0\n",
    "            \n",
    "                # stock portfolio is now empty.\n",
    "                portfolio_stocks = 0\n",
    "\n",
    "            if portfolio_bonds > bond_withdrawal:\n",
    "                # have enough money to withdraw from bonds.\n",
    "                portfolio_bonds -= bond_withdrawal\n",
    "                withdraw_amt += bond_withdrawal\n",
    "            else:\n",
    "                # not enough in the bond portfolio. But still can withdraw it all.\n",
    "                bond_withdrawal -= portfolio_bonds\n",
    "                withdraw_amt += portfolio_bonds\n",
    "                \n",
    "                # withdraw the remaining amount from the stock portfolio (if able to).\n",
    "                bond_withdraw_remaining = bond_withdrawal - portfolio_bonds\n",
    "                if portfolio_stocks > bond_withdraw_remaining:\n",
    "                    # enough money in stocks to make the withdrawal.\n",
    "                    portfolio_stocks -= bond_withdraw_remaining\n",
    "                    withdraw_amt += bond_withdraw_remaining\n",
    "                else:\n",
    "                    # not enough money in stocks to make the full withdrawal. Failure!\n",
    "                    withdraw_amt += portfolio_stocks\n",
    "                    portfolio_stocks = 0\n",
    "                    \n",
    "                # stock portfolio is now empty.\n",
    "                portfolio_bonds = 0\n",
    "            \n",
    "            # rebalance portfolio.\n",
    "            total_portfolio = portfolio_stocks + portfolio_bonds\n",
    "            portfolio_bonds = total_portfolio*percent_bond\n",
    "            portfolio_stocks = total_portfolio - portfolio_bonds\n",
    "            \n",
    "            # return from portfolio.\n",
    "            ind1 = month * 21\n",
    "            ind2 = ind1 + 21\n",
    "            if portfolio_stocks > 0:\n",
    "                # calculate the return on investment (stocks) for the month.\n",
    "                month_ret_stocks = np.prod(ret_stocks[ind1:ind2])\n",
    "                portfolio_stocks *= month_ret_stocks\n",
    "                \n",
    "            if portfolio_bonds > 0:\n",
    "                # calculate the return on investment (bonds) for the month.\n",
    "                month_ret_bonds = np.prod(ret_bonds[ind1:ind2])\n",
    "                portfolio_bonds *= month_ret_bonds\n",
    "            \n",
    "            if trial == 1:\n",
    "                print('{}, {}, monthly_withdrawal: {}, withdrawal amt: {}, portfolio_stocks: {}, portfolio_bonds: {}, stock_return: {}, bond_return: {}'.format(chunk, month, monthly_withdrawal, withdraw_amt, portfolio_stocks, portfolio_bonds, round(month_ret_stocks,5), round(month_ret_bonds,5)))\n",
    "            \n",
    "            total_withdrawals += withdraw_amt\n",
    "        \n",
    "        \n",
    "        # stop the trial if there's no more money.\n",
    "        if (portfolio_stocks + portfolio_bonds) <= 0:\n",
    "            break\n",
    "            \n",
    "        monthly_withdrawal *= 1+inflation\n",
    "            \n",
    "    w_list.append(total_withdrawals)\n",
    "    p_list.append(portfolio_stocks + portfolio_bonds)\n"
   ]
  },
  {
   "cell_type": "code",
   "execution_count": 490,
   "metadata": {},
   "outputs": [
    {
     "name": "stdout",
     "output_type": "stream",
     "text": [
      "success rate: 98.75%\n"
     ]
    }
   ],
   "source": [
    "portfolio_s = pd.Series(p_list)\n",
    "success_rate = np.sum(portfolio_s > 0)/num_trials*100\n",
    "print(f'success rate: {success_rate}%')"
   ]
  },
  {
   "cell_type": "code",
   "execution_count": 466,
   "metadata": {},
   "outputs": [
    {
     "data": {
      "text/plain": [
       "count      2000.000000\n",
       "mean     969464.899104\n",
       "std        1605.480881\n",
       "min      946630.642483\n",
       "25%      969657.843877\n",
       "50%      969657.843877\n",
       "75%      969657.843877\n",
       "max      969657.843877\n",
       "dtype: float64"
      ]
     },
     "execution_count": 466,
     "metadata": {},
     "output_type": "execute_result"
    }
   ],
   "source": [
    "pd.Series(w_list).describe()"
   ]
  },
  {
   "cell_type": "code",
   "execution_count": null,
   "metadata": {},
   "outputs": [],
   "source": []
  }
 ],
 "metadata": {
  "kernelspec": {
   "display_name": "Python 3",
   "language": "python",
   "name": "python3"
  },
  "language_info": {
   "codemirror_mode": {
    "name": "ipython",
    "version": 3
   },
   "file_extension": ".py",
   "mimetype": "text/x-python",
   "name": "python",
   "nbconvert_exporter": "python",
   "pygments_lexer": "ipython3",
   "version": "3.6.5"
  }
 },
 "nbformat": 4,
 "nbformat_minor": 4
}
